{
 "cells": [
  {
   "cell_type": "markdown",
   "metadata": {},
   "source": [
    "# Bevölkerungsstatistik\n",
    "\n",
    "Die [Bevölkerungsstatistik](https://www-genesis.destatis.de/genesis/online?operation=statistic&levelindex=0&levelid=1637662639240&code=12411#abreadcrumb) ist frei abrufbar.\n",
    "\n",
    "Für die Auswertung habe ich den Zeitraum von **2010 bis 2020** gewählt.\n",
    "\n",
    "Das Ergebnis habe ich als **csv-Datei** heruntergeladen.\n",
    "\n",
    "\n",
    "## Daten aufbereiten\n",
    "\n",
    "### Daten importieren\n",
    "In den ersten vier Zeilen stehen unwichtige Informationen, Zeile 5 und 6 beinhalten die Spaltennamen. Leider stehen diese nicht in einer Zeile, deshalb übernehme ich nur Zeile 6 als Header. Auch in den letzten vier Zeilen stehen irrelevante Daten, deshalb lösche ich sie."
   ]
  },
  {
   "cell_type": "code",
   "execution_count": 1,
   "metadata": {},
   "outputs": [],
   "source": [
    "# import modules\n",
    "import pandas as pd\n",
    "\n",
    "pop_df = pd.read_csv('./data/1_pop_data.csv', delimiter=';', encoding='ISO-8859-1', header=[5])"
   ]
  },
  {
   "cell_type": "code",
   "execution_count": 2,
   "metadata": {},
   "outputs": [],
   "source": [
    "pop_df = pop_df.drop([11, 12, 13, 14])"
   ]
  },
  {
   "cell_type": "code",
   "execution_count": 3,
   "metadata": {},
   "outputs": [
    {
     "data": {
      "text/html": [
       "<div>\n",
       "<style scoped>\n",
       "    .dataframe tbody tr th:only-of-type {\n",
       "        vertical-align: middle;\n",
       "    }\n",
       "\n",
       "    .dataframe tbody tr th {\n",
       "        vertical-align: top;\n",
       "    }\n",
       "\n",
       "    .dataframe thead th {\n",
       "        text-align: right;\n",
       "    }\n",
       "</style>\n",
       "<table border=\"1\" class=\"dataframe\">\n",
       "  <thead>\n",
       "    <tr style=\"text-align: right;\">\n",
       "      <th></th>\n",
       "      <th>Jahr</th>\n",
       "      <th>Anzahl</th>\n",
       "    </tr>\n",
       "  </thead>\n",
       "  <tbody>\n",
       "    <tr>\n",
       "      <th>0</th>\n",
       "      <td>31.12.2010</td>\n",
       "      <td>81751602.0</td>\n",
       "    </tr>\n",
       "    <tr>\n",
       "      <th>1</th>\n",
       "      <td>31.12.2011</td>\n",
       "      <td>80327900.0</td>\n",
       "    </tr>\n",
       "    <tr>\n",
       "      <th>2</th>\n",
       "      <td>31.12.2012</td>\n",
       "      <td>80523746.0</td>\n",
       "    </tr>\n",
       "    <tr>\n",
       "      <th>3</th>\n",
       "      <td>31.12.2013</td>\n",
       "      <td>80767463.0</td>\n",
       "    </tr>\n",
       "    <tr>\n",
       "      <th>4</th>\n",
       "      <td>31.12.2014</td>\n",
       "      <td>81197537.0</td>\n",
       "    </tr>\n",
       "    <tr>\n",
       "      <th>5</th>\n",
       "      <td>31.12.2015</td>\n",
       "      <td>82175684.0</td>\n",
       "    </tr>\n",
       "    <tr>\n",
       "      <th>6</th>\n",
       "      <td>31.12.2016</td>\n",
       "      <td>82521653.0</td>\n",
       "    </tr>\n",
       "    <tr>\n",
       "      <th>7</th>\n",
       "      <td>31.12.2017</td>\n",
       "      <td>82792351.0</td>\n",
       "    </tr>\n",
       "    <tr>\n",
       "      <th>8</th>\n",
       "      <td>31.12.2018</td>\n",
       "      <td>83019213.0</td>\n",
       "    </tr>\n",
       "    <tr>\n",
       "      <th>9</th>\n",
       "      <td>31.12.2019</td>\n",
       "      <td>83166711.0</td>\n",
       "    </tr>\n",
       "    <tr>\n",
       "      <th>10</th>\n",
       "      <td>31.12.2020</td>\n",
       "      <td>83155031.0</td>\n",
       "    </tr>\n",
       "  </tbody>\n",
       "</table>\n",
       "</div>"
      ],
      "text/plain": [
       "          Jahr      Anzahl\n",
       "0   31.12.2010  81751602.0\n",
       "1   31.12.2011  80327900.0\n",
       "2   31.12.2012  80523746.0\n",
       "3   31.12.2013  80767463.0\n",
       "4   31.12.2014  81197537.0\n",
       "5   31.12.2015  82175684.0\n",
       "6   31.12.2016  82521653.0\n",
       "7   31.12.2017  82792351.0\n",
       "8   31.12.2018  83019213.0\n",
       "9   31.12.2019  83166711.0\n",
       "10  31.12.2020  83155031.0"
      ]
     },
     "execution_count": 3,
     "metadata": {},
     "output_type": "execute_result"
    }
   ],
   "source": [
    "pop_df = pop_df.rename(columns={\"Unnamed: 0\": \"Jahr\"})\n",
    "pop_df"
   ]
  },
  {
   "cell_type": "markdown",
   "metadata": {},
   "source": [
    "### Typen verändern\n",
    "Die Typen der Werte stimmen noch nicht:\n",
    "- Das *Datum* muss entweder in ein DateTime-Objekt oder ein Integer umgewandelt. Da das genaue Datum irrelevant ist, reicht ein Integer\n",
    "- Die *Anzahl* ist ein Float, da es sich jedoch um eine Anzahl von Menschen handelt, muss sie zu einem Integer umgewandelt werden "
   ]
  },
  {
   "cell_type": "code",
   "execution_count": 4,
   "metadata": {},
   "outputs": [
    {
     "data": {
      "text/plain": [
       "Jahr       object\n",
       "Anzahl    float64\n",
       "dtype: object"
      ]
     },
     "execution_count": 4,
     "metadata": {},
     "output_type": "execute_result"
    }
   ],
   "source": [
    "pop_df.dtypes"
   ]
  },
  {
   "cell_type": "code",
   "execution_count": 5,
   "metadata": {},
   "outputs": [],
   "source": [
    "pop_df['Anzahl'] = pop_df['Anzahl'].astype(int)"
   ]
  },
  {
   "cell_type": "code",
   "execution_count": 6,
   "metadata": {},
   "outputs": [],
   "source": [
    "pop_df['Jahr'] = pd.to_datetime(pop_df['Jahr'], format='%d.%m.%Y')"
   ]
  },
  {
   "cell_type": "code",
   "execution_count": 7,
   "metadata": {},
   "outputs": [
    {
     "data": {
      "text/plain": [
       "Jahr      datetime64[ns]\n",
       "Anzahl             int32\n",
       "dtype: object"
      ]
     },
     "execution_count": 7,
     "metadata": {},
     "output_type": "execute_result"
    }
   ],
   "source": [
    "pop_df.dtypes"
   ]
  },
  {
   "cell_type": "markdown",
   "metadata": {},
   "source": [
    "## Aufbereitete Daten"
   ]
  },
  {
   "cell_type": "code",
   "execution_count": 8,
   "metadata": {},
   "outputs": [
    {
     "data": {
      "text/html": [
       "<div>\n",
       "<style scoped>\n",
       "    .dataframe tbody tr th:only-of-type {\n",
       "        vertical-align: middle;\n",
       "    }\n",
       "\n",
       "    .dataframe tbody tr th {\n",
       "        vertical-align: top;\n",
       "    }\n",
       "\n",
       "    .dataframe thead th {\n",
       "        text-align: right;\n",
       "    }\n",
       "</style>\n",
       "<table border=\"1\" class=\"dataframe\">\n",
       "  <thead>\n",
       "    <tr style=\"text-align: right;\">\n",
       "      <th></th>\n",
       "      <th>Jahr</th>\n",
       "      <th>Anzahl</th>\n",
       "    </tr>\n",
       "  </thead>\n",
       "  <tbody>\n",
       "    <tr>\n",
       "      <th>0</th>\n",
       "      <td>2010-12-31</td>\n",
       "      <td>81751602</td>\n",
       "    </tr>\n",
       "    <tr>\n",
       "      <th>1</th>\n",
       "      <td>2011-12-31</td>\n",
       "      <td>80327900</td>\n",
       "    </tr>\n",
       "    <tr>\n",
       "      <th>2</th>\n",
       "      <td>2012-12-31</td>\n",
       "      <td>80523746</td>\n",
       "    </tr>\n",
       "    <tr>\n",
       "      <th>3</th>\n",
       "      <td>2013-12-31</td>\n",
       "      <td>80767463</td>\n",
       "    </tr>\n",
       "    <tr>\n",
       "      <th>4</th>\n",
       "      <td>2014-12-31</td>\n",
       "      <td>81197537</td>\n",
       "    </tr>\n",
       "    <tr>\n",
       "      <th>5</th>\n",
       "      <td>2015-12-31</td>\n",
       "      <td>82175684</td>\n",
       "    </tr>\n",
       "    <tr>\n",
       "      <th>6</th>\n",
       "      <td>2016-12-31</td>\n",
       "      <td>82521653</td>\n",
       "    </tr>\n",
       "    <tr>\n",
       "      <th>7</th>\n",
       "      <td>2017-12-31</td>\n",
       "      <td>82792351</td>\n",
       "    </tr>\n",
       "    <tr>\n",
       "      <th>8</th>\n",
       "      <td>2018-12-31</td>\n",
       "      <td>83019213</td>\n",
       "    </tr>\n",
       "    <tr>\n",
       "      <th>9</th>\n",
       "      <td>2019-12-31</td>\n",
       "      <td>83166711</td>\n",
       "    </tr>\n",
       "    <tr>\n",
       "      <th>10</th>\n",
       "      <td>2020-12-31</td>\n",
       "      <td>83155031</td>\n",
       "    </tr>\n",
       "  </tbody>\n",
       "</table>\n",
       "</div>"
      ],
      "text/plain": [
       "         Jahr    Anzahl\n",
       "0  2010-12-31  81751602\n",
       "1  2011-12-31  80327900\n",
       "2  2012-12-31  80523746\n",
       "3  2013-12-31  80767463\n",
       "4  2014-12-31  81197537\n",
       "5  2015-12-31  82175684\n",
       "6  2016-12-31  82521653\n",
       "7  2017-12-31  82792351\n",
       "8  2018-12-31  83019213\n",
       "9  2019-12-31  83166711\n",
       "10 2020-12-31  83155031"
      ]
     },
     "execution_count": 8,
     "metadata": {},
     "output_type": "execute_result"
    }
   ],
   "source": [
    "pop_df"
   ]
  }
 ],
 "metadata": {
  "interpreter": {
   "hash": "5b083ce6f89d7fcaf631acbe99b09ab0464cdb56b837228a24d8bcc37e242b3c"
  },
  "kernelspec": {
   "display_name": "Python 3.7.11 64-bit ('jbook': conda)",
   "language": "python",
   "name": "python3"
  },
  "language_info": {
   "codemirror_mode": {
    "name": "ipython",
    "version": 3
   },
   "file_extension": ".py",
   "mimetype": "text/x-python",
   "name": "python",
   "nbconvert_exporter": "python",
   "pygments_lexer": "ipython3",
   "version": "3.8.8"
  },
  "orig_nbformat": 4
 },
 "nbformat": 4,
 "nbformat_minor": 2
}
